{
  "nbformat": 4,
  "nbformat_minor": 0,
  "metadata": {
    "colab": {
      "name": " Final simulation_builder.ipynb",
      "provenance": [],
      "collapsed_sections": [],
      "machine_shape": "hm",
      "include_colab_link": true
    },
    "kernelspec": {
      "name": "python3",
      "display_name": "Python 3"
    },
    "accelerator": "GPU"
  },
  "cells": [
    {
      "cell_type": "markdown",
      "metadata": {
        "id": "view-in-github",
        "colab_type": "text"
      },
      "source": [
        "<a href=\"https://colab.research.google.com/github/zahBayat/ModelOnCMB/blob/main/Final_simulation_builder.ipynb\" target=\"_parent\"><img src=\"https://colab.research.google.com/assets/colab-badge.svg\" alt=\"Open In Colab\"/></a>"
      ]
    },
    {
      "cell_type": "code",
      "metadata": {
        "colab": {
          "base_uri": "https://localhost:8080/"
        },
        "id": "TaC75gVTUwKM",
        "outputId": "8aa1b2c7-4ba5-4c57-8fc6-8cb303a5f892"
      },
      "source": [
        "from google.colab import drive\n",
        "drive.mount('/content/drive')"
      ],
      "execution_count": null,
      "outputs": [
        {
          "output_type": "stream",
          "name": "stdout",
          "text": [
            "Mounted at /content/drive\n"
          ]
        }
      ]
    },
    {
      "cell_type": "code",
      "metadata": {
        "colab": {
          "base_uri": "https://localhost:8080/"
        },
        "id": "kRF_1jZM_TUg",
        "outputId": "64df45e7-6b0e-4641-d2e2-79c89563d062"
      },
      "source": [
        "cd /content/drive/MyDrive"
      ],
      "execution_count": null,
      "outputs": [
        {
          "output_type": "stream",
          "name": "stdout",
          "text": [
            "/content/drive/MyDrive\n"
          ]
        }
      ]
    },
    {
      "cell_type": "code",
      "metadata": {
        "id": "2qhQAZeJd_Kb",
        "colab": {
          "base_uri": "https://localhost:8080/"
        },
        "outputId": "1879f013-e811-4fd2-aff5-75bccc863e29"
      },
      "source": [
        "!pip install git+https://github.com/vafaei-ar/ccgpack.git"
      ],
      "execution_count": null,
      "outputs": [
        {
          "output_type": "stream",
          "name": "stdout",
          "text": [
            "Collecting git+https://github.com/vafaei-ar/ccgpack.git\n",
            "  Cloning https://github.com/vafaei-ar/ccgpack.git to /tmp/pip-req-build-li9fqfzd\n",
            "  Running command git clone -q https://github.com/vafaei-ar/ccgpack.git /tmp/pip-req-build-li9fqfzd\n",
            "Building wheels for collected packages: ccgpack\n",
            "  Building wheel for ccgpack (setup.py) ... \u001b[?25l\u001b[?25hdone\n",
            "  Created wheel for ccgpack: filename=ccgpack-0.1.0-cp37-cp37m-linux_x86_64.whl size=910089 sha256=26c09c8717075e57c6e0eaedcdd7f0c53ac193afb751c51b5c5cca6b9694a87e\n",
            "  Stored in directory: /tmp/pip-ephem-wheel-cache-l8rix5tj/wheels/12/6f/95/7ae57565d174cea0e92a0da0a36f289e045f46ef2173da656b\n",
            "Successfully built ccgpack\n",
            "Installing collected packages: ccgpack\n",
            "Successfully installed ccgpack-0.1.0\n"
          ]
        }
      ]
    },
    {
      "cell_type": "code",
      "metadata": {
        "id": "vRH-aFCVevZU",
        "colab": {
          "base_uri": "https://localhost:8080/"
        },
        "outputId": "db4cb022-91f4-4e2e-938f-c680b23c47f4"
      },
      "source": [
        "!pip install healpy"
      ],
      "execution_count": null,
      "outputs": [
        {
          "output_type": "stream",
          "name": "stdout",
          "text": [
            "Collecting healpy\n",
            "  Downloading healpy-1.15.0-cp37-cp37m-manylinux_2_5_x86_64.manylinux1_x86_64.whl (18.1 MB)\n",
            "\u001b[K     |████████████████████████████████| 18.1 MB 165 kB/s \n",
            "\u001b[?25hRequirement already satisfied: scipy in /usr/local/lib/python3.7/dist-packages (from healpy) (1.4.1)\n",
            "Requirement already satisfied: numpy>=1.13 in /usr/local/lib/python3.7/dist-packages (from healpy) (1.19.5)\n",
            "Requirement already satisfied: astropy in /usr/local/lib/python3.7/dist-packages (from healpy) (4.3.1)\n",
            "Requirement already satisfied: matplotlib in /usr/local/lib/python3.7/dist-packages (from healpy) (3.2.2)\n",
            "Requirement already satisfied: importlib-metadata in /usr/local/lib/python3.7/dist-packages (from astropy->healpy) (4.6.4)\n",
            "Requirement already satisfied: pyerfa>=1.7.3 in /usr/local/lib/python3.7/dist-packages (from astropy->healpy) (2.0.0)\n",
            "Requirement already satisfied: typing-extensions>=3.6.4 in /usr/local/lib/python3.7/dist-packages (from importlib-metadata->astropy->healpy) (3.7.4.3)\n",
            "Requirement already satisfied: zipp>=0.5 in /usr/local/lib/python3.7/dist-packages (from importlib-metadata->astropy->healpy) (3.5.0)\n",
            "Requirement already satisfied: pyparsing!=2.0.4,!=2.1.2,!=2.1.6,>=2.0.1 in /usr/local/lib/python3.7/dist-packages (from matplotlib->healpy) (2.4.7)\n",
            "Requirement already satisfied: cycler>=0.10 in /usr/local/lib/python3.7/dist-packages (from matplotlib->healpy) (0.10.0)\n",
            "Requirement already satisfied: python-dateutil>=2.1 in /usr/local/lib/python3.7/dist-packages (from matplotlib->healpy) (2.8.2)\n",
            "Requirement already satisfied: kiwisolver>=1.0.1 in /usr/local/lib/python3.7/dist-packages (from matplotlib->healpy) (1.3.1)\n",
            "Requirement already satisfied: six in /usr/local/lib/python3.7/dist-packages (from cycler>=0.10->matplotlib->healpy) (1.15.0)\n",
            "Installing collected packages: healpy\n",
            "Successfully installed healpy-1.15.0\n"
          ]
        }
      ]
    },
    {
      "cell_type": "code",
      "metadata": {
        "id": "bwK5nO1odkzk"
      },
      "source": [
        "import matplotlib as mpl\n",
        "import os\n",
        "import sys\n",
        "import shutil\n",
        "import argparse\n",
        "import numpy as np\n",
        "import pylab as plt\n",
        "import healpy as hp\n",
        "from ccgpack import sky2patch,ch_mkdir,pop_percent,download\n",
        "import numpy as np"
      ],
      "execution_count": null,
      "outputs": []
    },
    {
      "cell_type": "code",
      "metadata": {
        "id": "80tz4VRE55wb"
      },
      "source": [
        "parser = argparse.ArgumentParser(description='Short sample app')\n",
        "parser.add_argument('-r', action=\"store_true\", default=False)\n",
        "\n",
        "args = parser.parse_args(args=[])\n",
        "replace = args.r"
      ],
      "execution_count": null,
      "outputs": []
    },
    {
      "cell_type": "code",
      "metadata": {
        "id": "BIOZWlRp_XGc"
      },
      "source": [
        "cmap = plt.cm.jet\n",
        "cmap.set_under('w')\n",
        "cmap.set_bad('gray',1.)\n",
        "\n",
        "n_gaussian = 10\n",
        "nside = 2048\n",
        "lmax = 3*nside\n",
        "fwhm = 0.9 \n",
        "fwhm = np.radians(fwhm/60.)\n",
        "path = './TestData/cmb_s4ii/'\n",
        "dest = './TestData/s4_patch/'\n",
        "\n",
        "\n",
        "cl = np.load('/content/drive/MyDrive/Colab Notebooks/zahra project/cl_planck_lensed.npy')\n",
        "ll = cl[:lmax,0]\n",
        "cl = cl[:lmax,1]\n",
        "cl = np.concatenate([[0,0] , cl])\n",
        "ll = np.concatenate([[0,1] , ll])\n",
        "\n",
        "ch_mkdir(path)"
      ],
      "execution_count": null,
      "outputs": []
    },
    {
      "cell_type": "code",
      "metadata": {
        "id": "rJhSnVS2_sQK"
      },
      "source": [
        "def kelvin_check(m):\n",
        "    if m.std()>1e-2:\n",
        "        return 1e-6*m\n",
        "    return m\n",
        "\n",
        "def build_map(inmap,output,i,\n",
        "                ntot = None,\n",
        "                ns = 1,\n",
        "                kelvin = 0,\n",
        "                sml = 0.,\n",
        "                lmax = 3*2048,\n",
        "                prefix = ''):    \n",
        "    ch_mkdir(dest)\n",
        "    dont = 1\n",
        "    npatch = 12*ns**2\n",
        "    for j in range(npatch):\n",
        "        if not os.path.exists(output+prefix+str(i*npatch+j)+'.npy'):\n",
        "            dont = 0\n",
        "    if dont:\n",
        "        return\n",
        "    \n",
        "    s = hp.read_map(inmap,nest=1,verbose=0)\n",
        "\n",
        "    if kelvin:\n",
        "        s = kelvin_check(s)\n",
        "\n",
        "    patches = sky2patch(s,ns)\n",
        "\n",
        "    for j in range(npatch):\n",
        "        if not ntot is None:\n",
        "            pop_percent(i*npatch+j,ntot*npatch)\n",
        "        np.save(output+prefix+str(i*npatch+j),patches[j])\n",
        "        plt.imshow(patches[j], cmap=cmap)\n",
        "        plt.savefig(output+prefix+str(i*npatch+j)+'.jpg')\n",
        "        plt.close()"
      ],
      "execution_count": null,
      "outputs": []
    },
    {
      "cell_type": "code",
      "metadata": {
        "id": "5NdZwHYz_31y"
      },
      "source": [
        "#n_gaussian = 1\n",
        "\n",
        "for i in range(n_gaussian):\n",
        "\n",
        "    if not os.path.exists(path+'map_'+str(nside)+'_'+str(i)+'.fits') or replace:\n",
        "        print('Simulation gaussian healpix map: '+str(i))\n",
        "\n",
        "        m,alms = hp.sphtfunc.synfast(cl, nside=nside, fwhm=fwhm , lmax=lmax, mmax=None, alm=True, pol=False, pixwin=False, sigma=None, new=1, verbose=0)\n",
        "        cl_map = hp.sphtfunc.alm2cl(alms)\n",
        "        # print(cl_map.shape)\n",
        "\n",
        "        hp.mollview(m, nest=0, cmap=cmap)\n",
        "        hp.write_map(path+'map_'+str(nside)+'_'+str(i)+'.fits', m, overwrite=1)\n",
        "        plt.savefig(path+'map_'+str(nside)+'_'+str(i)+'.jpg')\n",
        "        plt.show()\n",
        "        plt.close()\n",
        "            \n",
        "        plt.figure(figsize=(10,6))\n",
        "        dl1 = []\n",
        "        dl2 = []\n",
        "        for j in range(ll.shape[0]-1):\n",
        "                dl1.append(ll[j]*(ll[j]+1)*cl[j]/(2*np.pi))\n",
        "                dl2.append(ll[j]*(ll[j]+1)*cl_map[j]/(2*np.pi))\n",
        "\n",
        "        plt.plot(ll[:-1],dl2,'r--',label='Simulation')\n",
        "        plt.plot(ll[:-1],dl1,'b--',lw=2,label='Orginal')\n",
        "        plt.xscale('log')\n",
        "        plt.yscale('log')\n",
        "        plt.tick_params(labelsize=15)\n",
        "        plt.xlabel(r'$\\ell$',fontsize=25)\n",
        "        plt.ylabel(r'$D_{\\ell}$',fontsize=25)\n",
        "\n",
        "        plt.legend(loc='best',fontsize=20)\n",
        "        plt.savefig(path+'power_'+str(nside)+'_'+str(i)+'.jpg')\n",
        "        plt.close()   \n",
        "\n",
        "    inmap = path+'map_'+str(nside)+'_'+str(i)+'.fits'\n",
        "    build_map(inmap,dest,i,n_gaussian , kelvin=1)\n",
        "    print('map '+str(i)+' done')\n",
        "    # os.remove(inmap)\n",
        "    # print('map '+str(i)+' removed!')"
      ],
      "execution_count": null,
      "outputs": []
    }
  ]
}